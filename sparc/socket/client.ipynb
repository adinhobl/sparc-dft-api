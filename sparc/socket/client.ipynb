{
 "cells": [
  {
   "cell_type": "code",
   "execution_count": 1,
   "metadata": {},
   "outputs": [],
   "source": [
    "%load_ext autoreload\n",
    "%autoreload 2"
   ]
  },
  {
   "cell_type": "code",
   "execution_count": 2,
   "metadata": {},
   "outputs": [],
   "source": [
    "import socketclient\n",
    "import numpy as np"
   ]
  },
  {
   "cell_type": "code",
   "execution_count": 3,
   "metadata": {},
   "outputs": [],
   "source": [
    "s = socketclient.SocketClient()"
   ]
  },
  {
   "cell_type": "code",
   "execution_count": 4,
   "metadata": {},
   "outputs": [
    {
     "name": "stdout",
     "output_type": "stream",
     "text": [
      "Starting Client\n",
      "Create a TCP/IP socket\n",
      "Connect the socket to the server port\n",
      "Connecting to: ('desktop', 20801)\n",
      "Connected to server\n"
     ]
    }
   ],
   "source": [
    "s.connect()"
   ]
  },
  {
   "cell_type": "markdown",
   "metadata": {},
   "source": [
    "## ECHO"
   ]
  },
  {
   "cell_type": "code",
   "execution_count": 5,
   "metadata": {},
   "outputs": [
    {
     "name": "stdout",
     "output_type": "stream",
     "text": [
      "Sending: ECHO\n",
      "\n",
      "\n",
      "Sending: Hello there!\n",
      "\n",
      "\n",
      "Received from server: Hello there!\n",
      "\n",
      "\n"
     ]
    }
   ],
   "source": [
    "s.echo(message=\"Hello there!\")"
   ]
  },
  {
   "cell_type": "markdown",
   "metadata": {},
   "source": [
    "## STATUS"
   ]
  },
  {
   "cell_type": "code",
   "execution_count": 6,
   "metadata": {},
   "outputs": [
    {
     "name": "stdout",
     "output_type": "stream",
     "text": [
      "getting status\n",
      "Sending: STATUS\n",
      "\n",
      "\n",
      "Received from server: NEEDINIT\u0000\n"
     ]
    }
   ],
   "source": [
    "s.status()"
   ]
  },
  {
   "cell_type": "markdown",
   "metadata": {},
   "source": [
    "## INIT"
   ]
  },
  {
   "cell_type": "code",
   "execution_count": 7,
   "metadata": {},
   "outputs": [
    {
     "name": "stdout",
     "output_type": "stream",
     "text": [
      "initializing\n",
      "Sending: INIT\n",
      "\n",
      "\n",
      "Sending: 5\n",
      "\n",
      "\n",
      "Sending: 0\n",
      "\n",
      "\n"
     ]
    }
   ],
   "source": [
    "s.init(bead_index=5, init_str='')"
   ]
  },
  {
   "cell_type": "code",
   "execution_count": 8,
   "metadata": {},
   "outputs": [
    {
     "name": "stdout",
     "output_type": "stream",
     "text": [
      "initializing\n",
      "Sending: INIT\n",
      "\n",
      "\n",
      "Sending: 5\n",
      "\n",
      "\n",
      "Sending: 12\n",
      "\n",
      "\n",
      "Sending: init my calc\n",
      "\n",
      "\n"
     ]
    }
   ],
   "source": [
    "s.init(bead_index=5, init_str='init my calc')"
   ]
  },
  {
   "cell_type": "markdown",
   "metadata": {},
   "source": [
    "## POSDATA"
   ]
  },
  {
   "cell_type": "code",
   "execution_count": 9,
   "metadata": {},
   "outputs": [
    {
     "data": {
      "text/plain": [
       "array([1.23000000e-01, 3.45300000e+03, 5.43640000e+03, 2.34244345e+03,\n",
       "       6.57575700e+05, 3.00000000e+00, 4.93285714e+02, 3.45000000e+02,\n",
       "       0.00000000e+00])"
      ]
     },
     "execution_count": 9,
     "metadata": {},
     "output_type": "execute_result"
    }
   ],
   "source": [
    "cell_vec_mat = np.array([0.123, 3453, 5436.4, 2342.4434535, 657575.7, 3, 3453/7, 345, 0], dtype=float)\n",
    "cell_vec_mat"
   ]
  },
  {
   "cell_type": "code",
   "execution_count": 10,
   "metadata": {},
   "outputs": [
    {
     "data": {
      "text/plain": [
       "array([1.23000000e-01, 3.45300000e+03, 5.43640000e+03, 2.34244345e+03,\n",
       "       6.57575700e+05, 3.00000000e+00, 4.93285714e+02, 3.45000000e+02,\n",
       "       0.00000000e+00])"
      ]
     },
     "execution_count": 10,
     "metadata": {},
     "output_type": "execute_result"
    }
   ],
   "source": [
    "inv_mat = np.array([0.123, 3453, 5436.4, 2342.4434535, 657575.7, 3, 3453/7, 345, 0], dtype=float)\n",
    "inv_mat"
   ]
  },
  {
   "cell_type": "code",
   "execution_count": 11,
   "metadata": {},
   "outputs": [
    {
     "data": {
      "text/plain": [
       "array([[-2.16063927,  2.4184463 ,  3.87831218],\n",
       "       [ 2.93246657, -0.92166179,  3.16526586],\n",
       "       [-4.03678624,  4.08162376, -0.89057306],\n",
       "       [ 3.29836275,  2.36671751, -0.57729478],\n",
       "       [-4.87803126,  1.93064507, -2.80085129],\n",
       "       [ 0.16048747,  4.52909809, -4.15599484],\n",
       "       [-0.24949477, -4.07567694, -1.8787151 ],\n",
       "       [ 2.92506877, -1.73053577,  1.68671259],\n",
       "       [ 1.0601537 ,  1.14862208, -0.3543041 ],\n",
       "       [-0.51657715,  4.98241904,  2.25599851],\n",
       "       [ 2.24916415, -0.22015417, -4.15157621]])"
      ]
     },
     "execution_count": 11,
     "metadata": {},
     "output_type": "execute_result"
    }
   ],
   "source": [
    "num_atoms = 11\n",
    "atom_positions = (np.random.random_sample((num_atoms, 3)) - 0.5) * 10\n",
    "atom_positions"
   ]
  },
  {
   "cell_type": "code",
   "execution_count": 17,
   "metadata": {},
   "outputs": [
    {
     "name": "stdout",
     "output_type": "stream",
     "text": [
      "sending position data\n",
      "Sending: POSDATA\n",
      "\n",
      "\n",
      "There was an issue sending\n",
      "000000.123\n",
      "00003453.0\n",
      "00005436.4\n",
      "2342.4434535\n",
      "00657575.7\n",
      "00000003.0\n",
      "493.2857142857143\n",
      "00000345.0\n",
      "00000000.0\n"
     ]
    }
   ],
   "source": [
    "s.posdata(cell_vec_mat, inv_mat, num_atoms, atom_positions)"
   ]
  },
  {
   "cell_type": "markdown",
   "metadata": {},
   "source": [
    "## GETFORCE"
   ]
  },
  {
   "cell_type": "markdown",
   "metadata": {},
   "source": [
    "## ABORT"
   ]
  },
  {
   "cell_type": "code",
   "execution_count": null,
   "metadata": {},
   "outputs": [],
   "source": [
    "s.abort()"
   ]
  },
  {
   "cell_type": "markdown",
   "metadata": {},
   "source": []
  }
 ],
 "metadata": {
  "interpreter": {
   "hash": "f727831bba239bcfec773df07b4bff182b876955e8624f7f925e8903675c66c0"
  },
  "kernelspec": {
   "display_name": "Python 3.9.7 64-bit ('vip': conda)",
   "name": "python3"
  },
  "language_info": {
   "codemirror_mode": {
    "name": "ipython",
    "version": 3
   },
   "file_extension": ".py",
   "mimetype": "text/x-python",
   "name": "python",
   "nbconvert_exporter": "python",
   "pygments_lexer": "ipython3",
   "version": "3.9.6"
  },
  "orig_nbformat": 4
 },
 "nbformat": 4,
 "nbformat_minor": 2
}
