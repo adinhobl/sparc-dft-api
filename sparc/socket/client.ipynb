{
 "cells": [
  {
   "cell_type": "code",
   "execution_count": 10,
   "metadata": {},
   "outputs": [
    {
     "name": "stdout",
     "output_type": "stream",
     "text": [
      "The autoreload extension is already loaded. To reload it, use:\n",
      "  %reload_ext autoreload\n"
     ]
    }
   ],
   "source": [
    "%load_ext autoreload\n",
    "%autoreload 2"
   ]
  },
  {
   "cell_type": "code",
   "execution_count": 11,
   "metadata": {},
   "outputs": [],
   "source": [
    "import socketclient\n",
    "import numpy as np"
   ]
  },
  {
   "cell_type": "code",
   "execution_count": 12,
   "metadata": {},
   "outputs": [],
   "source": [
    "s = socketclient.SocketClient()"
   ]
  },
  {
   "cell_type": "code",
   "execution_count": 13,
   "metadata": {},
   "outputs": [
    {
     "name": "stdout",
     "output_type": "stream",
     "text": [
      "Starting Client\n",
      "Create a TCP/IP socket\n",
      "Connect the socket to the server port\n",
      "Connecting to: ('desktop', 20801)\n",
      "Connected to server\n"
     ]
    }
   ],
   "source": [
    "s.connect()"
   ]
  },
  {
   "cell_type": "markdown",
   "metadata": {},
   "source": [
    "## ECHO"
   ]
  },
  {
   "cell_type": "code",
   "execution_count": 14,
   "metadata": {},
   "outputs": [
    {
     "name": "stdout",
     "output_type": "stream",
     "text": [
      "Sending: ECHO\n",
      "\n",
      "\n",
      "Sending: Hello there!\n",
      "\n",
      "\n",
      "Received from server: Hello there!\n",
      "\n",
      "\n"
     ]
    }
   ],
   "source": [
    "s.echo(message=\"Hello there!\")"
   ]
  },
  {
   "cell_type": "markdown",
   "metadata": {},
   "source": [
    "## STATUS"
   ]
  },
  {
   "cell_type": "code",
   "execution_count": 15,
   "metadata": {},
   "outputs": [
    {
     "name": "stdout",
     "output_type": "stream",
     "text": [
      "getting status\n",
      "Sending: STATUS\n",
      "\n",
      "\n",
      "Received from server: NEEDINIT\u0000\n"
     ]
    }
   ],
   "source": [
    "s.status()"
   ]
  },
  {
   "cell_type": "markdown",
   "metadata": {},
   "source": [
    "## INIT"
   ]
  },
  {
   "cell_type": "code",
   "execution_count": 16,
   "metadata": {},
   "outputs": [
    {
     "name": "stdout",
     "output_type": "stream",
     "text": [
      "initializing\n",
      "Sending: INIT\n",
      "\n",
      "\n"
     ]
    }
   ],
   "source": [
    "s.init(bead_index=5, init_str='')"
   ]
  },
  {
   "cell_type": "code",
   "execution_count": 17,
   "metadata": {},
   "outputs": [
    {
     "name": "stdout",
     "output_type": "stream",
     "text": [
      "initializing\n",
      "Sending: INIT\n",
      "\n",
      "\n",
      "Sending: 1\n",
      "\n",
      "\n"
     ]
    }
   ],
   "source": [
    "s.init(bead_index=5, init_str='1')"
   ]
  },
  {
   "cell_type": "code",
   "execution_count": 18,
   "metadata": {},
   "outputs": [
    {
     "name": "stdout",
     "output_type": "stream",
     "text": [
      "initializing\n",
      "Sending: INIT\n",
      "\n",
      "\n",
      "Sending: init my calc\n",
      "\n",
      "\n"
     ]
    }
   ],
   "source": [
    "s.init(bead_index=5, init_str='init my calc')"
   ]
  },
  {
   "cell_type": "markdown",
   "metadata": {},
   "source": [
    "## POSDATA"
   ]
  },
  {
   "cell_type": "code",
   "execution_count": 19,
   "metadata": {},
   "outputs": [
    {
     "name": "stdout",
     "output_type": "stream",
     "text": [
      "getting status\n",
      "Sending: STATUS\n",
      "\n",
      "\n",
      "Received from server: READY\u0000\n"
     ]
    }
   ],
   "source": [
    "s.status()"
   ]
  },
  {
   "cell_type": "code",
   "execution_count": 20,
   "metadata": {},
   "outputs": [
    {
     "data": {
      "text/plain": [
       "array([1.23000000e-01, 3.45300000e+03, 5.43640000e+03, 2.34244345e+03,\n",
       "       6.57575700e+05, 3.00000000e+00, 4.93285714e+02, 3.45000000e+02,\n",
       "       0.00000000e+00])"
      ]
     },
     "execution_count": 20,
     "metadata": {},
     "output_type": "execute_result"
    }
   ],
   "source": [
    "cell_vec_mat = np.array([0.123, 3453, 5436.4, 2342.4434535, 657575.7, 3, 3453/7, 345, 0], dtype=float)\n",
    "cell_vec_mat"
   ]
  },
  {
   "cell_type": "code",
   "execution_count": 21,
   "metadata": {},
   "outputs": [
    {
     "data": {
      "text/plain": [
       "array([2.46000000e-01, 6.90600000e+03, 1.08728000e+04, 4.68488691e+03,\n",
       "       1.31515140e+06, 6.00000000e+00, 9.86571429e+02, 6.90000000e+02,\n",
       "       0.00000000e+00])"
      ]
     },
     "execution_count": 21,
     "metadata": {},
     "output_type": "execute_result"
    }
   ],
   "source": [
    "inv_mat = np.array([0.123, 3453, 5436.4, 2342.4434535, 657575.7, 3, 3453/7, 345, 0], dtype=float) * 2\n",
    "inv_mat"
   ]
  },
  {
   "cell_type": "code",
   "execution_count": 22,
   "metadata": {},
   "outputs": [
    {
     "data": {
      "text/plain": [
       "array([[-3.50981983, -0.29726233,  2.80727578],\n",
       "       [ 4.35917067, -0.03856853,  4.68240844],\n",
       "       [-4.47244653,  1.40841559,  0.96124878],\n",
       "       [ 3.02822936, -0.19636269, -4.92133997],\n",
       "       [-3.7007506 , -3.1392143 ,  1.8244014 ],\n",
       "       [ 3.3456952 ,  4.47375402,  3.47303038],\n",
       "       [-3.202245  ,  2.42089667,  4.31555497],\n",
       "       [-2.74950618, -0.21738696,  0.48733519],\n",
       "       [ 3.71334927,  2.25908487,  0.07480906],\n",
       "       [-3.26304023, -3.25139511, -2.98835234],\n",
       "       [ 4.07013193,  0.84825969, -1.60265214]])"
      ]
     },
     "execution_count": 22,
     "metadata": {},
     "output_type": "execute_result"
    }
   ],
   "source": [
    "num_atoms = 11\n",
    "atom_positions = (np.random.random_sample((num_atoms, 3)) - 0.5) * 10\n",
    "atom_positions"
   ]
  },
  {
   "cell_type": "code",
   "execution_count": 23,
   "metadata": {},
   "outputs": [
    {
     "name": "stdout",
     "output_type": "stream",
     "text": [
      "sending position data\n",
      "Sending: POSDATA\n",
      "\n",
      "\n",
      "0.123\n",
      "3453.0\n",
      "5436.4\n",
      "2342.4434535\n",
      "657575.7\n",
      "3.0\n",
      "493.2857142857143\n",
      "345.0\n",
      "0.0\n",
      "\n",
      "\n",
      "0.246\n",
      "6906.0\n",
      "10872.8\n",
      "4684.886907\n",
      "1315151.4\n",
      "6.0\n",
      "986.5714285714286\n",
      "690.0\n",
      "0.0\n",
      "\n",
      "\n",
      "b'\\x0b\\x00\\x00\\x00' ---> 11 \n",
      "\n",
      "-3.509819832757514\n",
      "-0.29726233228245746\n",
      "2.807275781837699\n",
      "4.3591706721548205\n",
      "-0.03856852742339156\n",
      "4.682408444877443\n",
      "-4.472446532898495\n",
      "1.4084155854317537\n",
      "0.961248777686099\n",
      "3.0282293551257364\n",
      "-0.19636269381644422\n",
      "-4.921339967063742\n",
      "-3.700750596926059\n",
      "-3.1392142984650007\n",
      "1.8244013957793126\n",
      "3.3456952045752217\n",
      "4.473754023392421\n",
      "3.4730303812357457\n",
      "-3.2022450035422203\n",
      "2.4208966689367886\n",
      "4.315554967083866\n",
      "-2.7495061829488545\n",
      "-0.2173869559500763\n",
      "0.487335194495927\n",
      "3.7133492698081705\n",
      "2.2590848727701642\n",
      "0.07480905912137237\n",
      "-3.2630402341150058\n",
      "-3.2513951068761724\n",
      "-2.988352338072099\n",
      "4.070131925707808\n",
      "0.848259691870813\n",
      "-1.602652138574323\n"
     ]
    }
   ],
   "source": [
    "s.posdata(cell_vec_mat, inv_mat, num_atoms, atom_positions)"
   ]
  },
  {
   "cell_type": "markdown",
   "metadata": {},
   "source": [
    "## GETFORCE"
   ]
  },
  {
   "cell_type": "code",
   "execution_count": null,
   "metadata": {},
   "outputs": [],
   "source": []
  },
  {
   "cell_type": "markdown",
   "metadata": {},
   "source": [
    "## ABORT"
   ]
  },
  {
   "cell_type": "code",
   "execution_count": 24,
   "metadata": {},
   "outputs": [
    {
     "name": "stdout",
     "output_type": "stream",
     "text": [
      "Instructing server to shut down.\n",
      "Sending: ABORT\n",
      "\n",
      "\n",
      "Closing socket.\n"
     ]
    }
   ],
   "source": [
    "s.abort()"
   ]
  }
 ],
 "metadata": {
  "interpreter": {
   "hash": "f727831bba239bcfec773df07b4bff182b876955e8624f7f925e8903675c66c0"
  },
  "kernelspec": {
   "display_name": "Python 3.9.7 64-bit ('vip': conda)",
   "name": "python3"
  },
  "language_info": {
   "codemirror_mode": {
    "name": "ipython",
    "version": 3
   },
   "file_extension": ".py",
   "mimetype": "text/x-python",
   "name": "python",
   "nbconvert_exporter": "python",
   "pygments_lexer": "ipython3",
   "version": "3.9.6"
  },
  "orig_nbformat": 4
 },
 "nbformat": 4,
 "nbformat_minor": 2
}
