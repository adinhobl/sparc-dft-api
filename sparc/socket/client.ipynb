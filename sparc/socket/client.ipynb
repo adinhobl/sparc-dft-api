{
 "cells": [
  {
   "cell_type": "code",
   "execution_count": 1,
   "metadata": {},
   "outputs": [],
   "source": [
    "%load_ext autoreload\n",
    "%autoreload 2"
   ]
  },
  {
   "cell_type": "code",
   "execution_count": 2,
   "metadata": {},
   "outputs": [],
   "source": [
    "import socketclient\n",
    "import numpy as np"
   ]
  },
  {
   "cell_type": "code",
   "execution_count": 3,
   "metadata": {},
   "outputs": [],
   "source": [
    "s = socketclient.SocketClient()"
   ]
  },
  {
   "cell_type": "code",
   "execution_count": 4,
   "metadata": {},
   "outputs": [
    {
     "name": "stdout",
     "output_type": "stream",
     "text": [
      "Starting Client\n",
      "Create a TCP/IP socket\n",
      "Connect the socket to the server port\n",
      "Connecting to: ('desktop', 20801)\n",
      "Connected to server\n"
     ]
    }
   ],
   "source": [
    "s.connect()"
   ]
  },
  {
   "cell_type": "markdown",
   "metadata": {},
   "source": [
    "## ECHO"
   ]
  },
  {
   "cell_type": "code",
   "execution_count": 5,
   "metadata": {},
   "outputs": [
    {
     "name": "stdout",
     "output_type": "stream",
     "text": [
      "Sending: ECHO\n",
      "\n",
      "\n",
      "Sending: Hello there!\n",
      "\n",
      "\n",
      "Received from server: Hello there!\n",
      "\n",
      "\n"
     ]
    }
   ],
   "source": [
    "s.echo(message=\"Hello there!\")"
   ]
  },
  {
   "cell_type": "markdown",
   "metadata": {},
   "source": [
    "## STATUS"
   ]
  },
  {
   "cell_type": "code",
   "execution_count": 6,
   "metadata": {},
   "outputs": [
    {
     "name": "stdout",
     "output_type": "stream",
     "text": [
      "getting status\n",
      "Sending: STATUS\n",
      "\n",
      "\n",
      "Received from server: NEEDINIT\u0000\n"
     ]
    }
   ],
   "source": [
    "s.status()"
   ]
  },
  {
   "cell_type": "markdown",
   "metadata": {},
   "source": [
    "## INIT"
   ]
  },
  {
   "cell_type": "code",
   "execution_count": 7,
   "metadata": {},
   "outputs": [
    {
     "name": "stdout",
     "output_type": "stream",
     "text": [
      "initializing\n",
      "Sending: INIT\n",
      "\n",
      "\n",
      "Sending: 5\n",
      "\n",
      "\n",
      "Sending: 0\n",
      "\n",
      "\n"
     ]
    }
   ],
   "source": [
    "s.init(bead_index=5, init_str='')"
   ]
  },
  {
   "cell_type": "code",
   "execution_count": 8,
   "metadata": {},
   "outputs": [
    {
     "name": "stdout",
     "output_type": "stream",
     "text": [
      "initializing\n",
      "Sending: INIT\n",
      "\n",
      "\n",
      "Sending: 5\n",
      "\n",
      "\n",
      "Sending: 12\n",
      "\n",
      "\n",
      "Sending: init my calc\n",
      "\n",
      "\n"
     ]
    }
   ],
   "source": [
    "s.init(bead_index=5, init_str='init my calc')"
   ]
  },
  {
   "cell_type": "markdown",
   "metadata": {},
   "source": [
    "## POSDATA"
   ]
  },
  {
   "cell_type": "code",
   "execution_count": 9,
   "metadata": {},
   "outputs": [
    {
     "name": "stdout",
     "output_type": "stream",
     "text": [
      "getting status\n",
      "Sending: STATUS\n",
      "\n",
      "\n",
      "Received from server: READY\u0000\n"
     ]
    }
   ],
   "source": [
    "s.status()"
   ]
  },
  {
   "cell_type": "code",
   "execution_count": 10,
   "metadata": {},
   "outputs": [
    {
     "data": {
      "text/plain": [
       "array([1.23000000e-01, 3.45300000e+03, 5.43640000e+03, 2.34244345e+03,\n",
       "       6.57575700e+05, 3.00000000e+00, 4.93285714e+02, 3.45000000e+02,\n",
       "       0.00000000e+00])"
      ]
     },
     "execution_count": 10,
     "metadata": {},
     "output_type": "execute_result"
    }
   ],
   "source": [
    "cell_vec_mat = np.array([0.123, 3453, 5436.4, 2342.4434535, 657575.7, 3, 3453/7, 345, 0], dtype=float)\n",
    "cell_vec_mat"
   ]
  },
  {
   "cell_type": "code",
   "execution_count": 11,
   "metadata": {},
   "outputs": [
    {
     "data": {
      "text/plain": [
       "array([2.46000000e-01, 6.90600000e+03, 1.08728000e+04, 4.68488691e+03,\n",
       "       1.31515140e+06, 6.00000000e+00, 9.86571429e+02, 6.90000000e+02,\n",
       "       0.00000000e+00])"
      ]
     },
     "execution_count": 11,
     "metadata": {},
     "output_type": "execute_result"
    }
   ],
   "source": [
    "inv_mat = np.array([0.123, 3453, 5436.4, 2342.4434535, 657575.7, 3, 3453/7, 345, 0], dtype=float) * 2\n",
    "inv_mat"
   ]
  },
  {
   "cell_type": "code",
   "execution_count": 12,
   "metadata": {},
   "outputs": [
    {
     "data": {
      "text/plain": [
       "array([[ 0.51273366, -1.17407878,  3.29928083],\n",
       "       [ 4.13762727,  0.27149415,  2.11605898],\n",
       "       [-2.11512987,  1.35378568, -2.60813114],\n",
       "       [ 4.09937759, -1.76618109, -2.45893102],\n",
       "       [ 3.40442689,  3.03099917, -3.94832317],\n",
       "       [-2.23190758, -0.32448177,  3.72489944],\n",
       "       [ 1.39058536,  0.16455313, -2.99064501],\n",
       "       [ 3.67934519,  1.57947169, -2.81382412],\n",
       "       [ 2.11292231, -2.45966631, -2.17235815],\n",
       "       [-0.84067908, -0.99631573, -1.45306598],\n",
       "       [-2.13655079,  3.31927584, -1.50164327]])"
      ]
     },
     "execution_count": 12,
     "metadata": {},
     "output_type": "execute_result"
    }
   ],
   "source": [
    "num_atoms = 11\n",
    "atom_positions = (np.random.random_sample((num_atoms, 3)) - 0.5) * 10\n",
    "atom_positions"
   ]
  },
  {
   "cell_type": "code",
   "execution_count": 13,
   "metadata": {},
   "outputs": [
    {
     "name": "stdout",
     "output_type": "stream",
     "text": [
      "sending position data\n",
      "Sending: POSDATA\n",
      "\n",
      "\n",
      "0.123\n",
      "3453.0\n",
      "5436.4\n",
      "2342.4434535\n",
      "657575.7\n",
      "3.0\n",
      "493.2857142857143\n",
      "345.0\n",
      "0.0\n",
      "\n",
      "\n",
      "0.246\n",
      "6906.0\n",
      "10872.8\n",
      "4684.886907\n",
      "1315151.4\n",
      "6.0\n",
      "986.5714285714286\n",
      "690.0\n",
      "0.0\n",
      "\n",
      "\n",
      "b'\\x0b\\x00\\x00\\x00' ---> 11 \n",
      "\n",
      "0.5127336621232004\n",
      "-1.1740787793903584\n",
      "3.2992808268101728\n",
      "4.137627274065251\n",
      "0.27149414602247623\n",
      "2.1160589805108367\n",
      "-2.1151298733271116\n",
      "1.3537856792227243\n",
      "-2.6081311364114326\n",
      "4.099377590635282\n",
      "-1.7661810873244133\n",
      "-2.4589310193312897\n",
      "3.404426891071899\n",
      "3.0309991687124063\n",
      "-3.9483231690950396\n",
      "-2.231907582059457\n",
      "-0.32448177060940164\n",
      "3.7248994445925088\n",
      "1.3905853590371786\n",
      "0.16455312880930606\n",
      "-2.9906450095244983\n",
      "3.679345191283608\n",
      "1.5794716935023667\n",
      "-2.8138241174610323\n",
      "2.112922311162977\n",
      "-2.4596663132239325\n",
      "-2.1723581530245593\n",
      "-0.8406790797952246\n",
      "-0.9963157304732329\n",
      "-1.453065975213852\n",
      "-2.1365507898687985\n",
      "3.3192758351185825\n",
      "-1.5016432728797757\n"
     ]
    }
   ],
   "source": [
    "s.posdata(cell_vec_mat, inv_mat, num_atoms, atom_positions)"
   ]
  },
  {
   "cell_type": "markdown",
   "metadata": {},
   "source": [
    "## GETFORCE"
   ]
  },
  {
   "cell_type": "markdown",
   "metadata": {},
   "source": [
    "## ABORT"
   ]
  },
  {
   "cell_type": "code",
   "execution_count": 14,
   "metadata": {},
   "outputs": [
    {
     "name": "stdout",
     "output_type": "stream",
     "text": [
      "Instructing server to shut down.\n",
      "Sending: ABORT\n",
      "\n",
      "\n",
      "Closing socket.\n"
     ]
    }
   ],
   "source": [
    "s.abort()"
   ]
  },
  {
   "cell_type": "markdown",
   "metadata": {},
   "source": []
  }
 ],
 "metadata": {
  "interpreter": {
   "hash": "f727831bba239bcfec773df07b4bff182b876955e8624f7f925e8903675c66c0"
  },
  "kernelspec": {
   "display_name": "Python 3.9.7 64-bit ('vip': conda)",
   "name": "python3"
  },
  "language_info": {
   "codemirror_mode": {
    "name": "ipython",
    "version": 3
   },
   "file_extension": ".py",
   "mimetype": "text/x-python",
   "name": "python",
   "nbconvert_exporter": "python",
   "pygments_lexer": "ipython3",
   "version": "3.9.6"
  },
  "orig_nbformat": 4
 },
 "nbformat": 4,
 "nbformat_minor": 2
}
